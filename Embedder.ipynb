{
 "cells": [
  {
   "cell_type": "markdown",
   "id": "d8bc33b0",
   "metadata": {},
   "source": [
    "# KCC QA Embedding Indexer\n",
    "This notebook loads query-answer data, embeds it using MPNet, and stores it in a local ChromaDB collection."
   ]
  },
  {
   "cell_type": "code",
   "execution_count": 1,
   "id": "d1869db6",
   "metadata": {},
   "outputs": [
    {
     "name": "stderr",
     "output_type": "stream",
     "text": [
      "c:\\Users\\User\\garreeb\\venv\\lib\\site-packages\\tqdm\\auto.py:21: TqdmWarning: IProgress not found. Please update jupyter and ipywidgets. See https://ipywidgets.readthedocs.io/en/stable/user_install.html\n",
      "  from .autonotebook import tqdm as notebook_tqdm\n"
     ]
    }
   ],
   "source": [
    "import pandas as pd\n",
    "from ftfy import fix_text\n",
    "from sentence_transformers import SentenceTransformer\n",
    "import chromadb"
   ]
  },
  {
   "cell_type": "markdown",
   "id": "d4cb10fc",
   "metadata": {},
   "source": [
    "## Load and Clean Data"
   ]
  },
  {
   "cell_type": "code",
   "execution_count": 2,
   "id": "40156878",
   "metadata": {},
   "outputs": [],
   "source": [
    "# Load CSV\n",
    "df = pd.read_csv('queries.csv', encoding='utf-8')\n",
    "\n",
    "# Clean text fields\n",
    "df['QueryText'] = df['QueryText'].apply(fix_text)\n",
    "df['KccAns'] = df['KccAns'].apply(fix_text)\n",
    "\n",
    "# Combine question + answer for embedding\n",
    "texts = (df['QueryText'] + \" \" + df['KccAns']).tolist()"
   ]
  },
  {
   "cell_type": "markdown",
   "id": "15551176",
   "metadata": {},
   "source": [
    "## Generate Embeddings using MPNet"
   ]
  },
  {
   "cell_type": "code",
   "execution_count": 3,
   "id": "09049bf0",
   "metadata": {},
   "outputs": [
    {
     "name": "stdout",
     "output_type": "stream",
     "text": [
      "Loading MPNet embedder...\n",
      "Computing embeddings...\n"
     ]
    },
    {
     "name": "stderr",
     "output_type": "stream",
     "text": [
      "Batches: 100%|██████████| 292/292 [1:43:05<00:00, 21.18s/it]  \n"
     ]
    }
   ],
   "source": [
    "print(\"Loading MPNet embedder...\")\n",
    "embedder = SentenceTransformer('sentence-transformers/all-mpnet-base-v2')\n",
    "\n",
    "print(\"Computing embeddings...\")\n",
    "embeddings = embedder.encode(texts, show_progress_bar=True)"
   ]
  },
  {
   "cell_type": "markdown",
   "id": "3e0644e0",
   "metadata": {},
   "source": [
    "## Store Embeddings in ChromaDB"
   ]
  },
  {
   "cell_type": "code",
   "execution_count": 5,
   "id": "25e0b8c7",
   "metadata": {},
   "outputs": [
    {
     "name": "stdout",
     "output_type": "stream",
     "text": [
      "Upserting embeddings to ChromaDB in batches...\n",
      "✅ All data indexed successfully!\n"
     ]
    }
   ],
   "source": [
    "# Split the data into batches to avoid hitting the ChromaDB limit\n",
    "BATCH_SIZE = 5000  # safe value under the 5461 limit\n",
    "\n",
    "print(\"Upserting embeddings to ChromaDB in batches...\")\n",
    "\n",
    "for i in range(0, len(embeddings), BATCH_SIZE):\n",
    "    batch_embeddings = embeddings[i:i + BATCH_SIZE].tolist()\n",
    "    batch_ids = ids[i:i + BATCH_SIZE]\n",
    "    batch_texts = texts[i:i + BATCH_SIZE]\n",
    "    batch_metadata = [\n",
    "        {'question': q, 'answer': a}\n",
    "        for q, a in zip(df['QueryText'][i:i + BATCH_SIZE], df['KccAns'][i:i + BATCH_SIZE])\n",
    "    ]\n",
    "\n",
    "    collection.upsert(\n",
    "        documents=batch_texts,\n",
    "        embeddings=batch_embeddings,\n",
    "        ids=batch_ids,\n",
    "        metadatas=batch_metadata\n",
    "    )\n",
    "\n",
    "print(\"✅ All data indexed successfully!\")\n"
   ]
  }
 ],
 "metadata": {
  "kernelspec": {
   "display_name": "Python 3",
   "language": "python",
   "name": "python3"
  },
  "language_info": {
   "codemirror_mode": {
    "name": "ipython",
    "version": 3
   },
   "file_extension": ".py",
   "mimetype": "text/x-python",
   "name": "python",
   "nbconvert_exporter": "python",
   "pygments_lexer": "ipython3",
   "version": "3.10.11"
  }
 },
 "nbformat": 4,
 "nbformat_minor": 5
}
